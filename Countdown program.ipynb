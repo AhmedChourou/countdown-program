{
 "cells": [
  {
   "cell_type": "code",
   "execution_count": null,
   "id": "77f439de-bb61-49f5-84a1-0740f9e312cf",
   "metadata": {},
   "outputs": [],
   "source": [
    "import time\n",
    "def countdown(t):    \n",
    "    while t:\n",
    "        t2=divmod(t,60)\n",
    "        timeformat=(t2[0],t2[1])\n",
    "        print(timeformat,end=\"\\r\")\n",
    "        time.sleep(1)\n",
    "        t=t-1\n",
    "    print('fire in the hole!')\n",
    "t = input(\"enter time in seconds: \")\n",
    "countdown(int(t))"
   ]
  }
 ],
 "metadata": {
  "kernelspec": {
   "display_name": "Python 3",
   "language": "python",
   "name": "python3"
  },
  "language_info": {
   "codemirror_mode": {
    "name": "ipython",
    "version": 3
   },
   "file_extension": ".py",
   "mimetype": "text/x-python",
   "name": "python",
   "nbconvert_exporter": "python",
   "pygments_lexer": "ipython3",
   "version": "3.8.8"
  }
 },
 "nbformat": 4,
 "nbformat_minor": 5
}
